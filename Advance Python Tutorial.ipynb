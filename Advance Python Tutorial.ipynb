{
  "nbformat": 4,
  "nbformat_minor": 0,
  "metadata": {
    "colab": {
      "provenance": [],
      "collapsed_sections": [
        "fjKnHON5nOqd",
        "kWpBTtkrn2PK",
        "bohCmuVOvDg9",
        "BYEmv53Bv7ji",
        "MAsXavKuCsY_",
        "km2BMATOzNv8",
        "A86rYPMH2dVa",
        "Gvbebv4N3p6z",
        "Oxp4GE1E8LUY",
        "__XaASretbSi"
      ]
    },
    "kernelspec": {
      "name": "python3",
      "display_name": "Python 3"
    },
    "language_info": {
      "name": "python"
    }
  },
  "cells": [
    {
      "cell_type": "markdown",
      "source": [
        "## Functions\n",
        "def func_name(par1, par2,...): \n",
        "> body of code"
      ],
      "metadata": {
        "id": "MXu_NNdESDF3"
      }
    },
    {
      "cell_type": "code",
      "execution_count": null,
      "metadata": {
        "id": "brmldYAWzt1a",
        "colab": {
          "base_uri": "https://localhost:8080/"
        },
        "outputId": "1e270a41-4e1d-474f-855a-f904f0cbd899"
      },
      "outputs": [
        {
          "output_type": "stream",
          "name": "stdout",
          "text": [
            "11\n"
          ]
        }
      ],
      "source": [
        "#addition\n",
        "def my_add(x, y):\n",
        "    print(x+y)\n",
        "\n",
        "sum=my_add(3, 8)"
      ]
    },
    {
      "cell_type": "code",
      "source": [
        "sum"
      ],
      "metadata": {
        "id": "2vU5XTdYxyIb"
      },
      "execution_count": null,
      "outputs": []
    },
    {
      "cell_type": "code",
      "source": [
        "def fibo(n):    # write Fibonacci series up to n\n",
        "  \"\"\"Print a Fibonacci series up to n.\"\"\"\n",
        "  a, b = 0, 1\n",
        "  while a < n:\n",
        "    print(a, end=' ')\n",
        "    a, b = b, a+b\n",
        "\n",
        "fibo(10)"
      ],
      "metadata": {
        "id": "p-OpMR6JSdnB",
        "colab": {
          "base_uri": "https://localhost:8080/"
        },
        "outputId": "0d9a5503-9e47-479b-87df-1e21b0cdeb3e"
      },
      "execution_count": null,
      "outputs": [
        {
          "output_type": "stream",
          "name": "stdout",
          "text": [
            "0 1 1 2 3 5 8 "
          ]
        }
      ]
    },
    {
      "cell_type": "code",
      "source": [
        "help(fib0)"
      ],
      "metadata": {
        "id": "RfsZxrVuSluQ",
        "colab": {
          "base_uri": "https://localhost:8080/",
          "height": 165
        },
        "outputId": "6f55342b-4fa9-4cd6-efbb-c54e32a20973"
      },
      "execution_count": null,
      "outputs": [
        {
          "output_type": "error",
          "ename": "NameError",
          "evalue": "ignored",
          "traceback": [
            "\u001b[0;31m---------------------------------------------------------------------------\u001b[0m",
            "\u001b[0;31mNameError\u001b[0m                                 Traceback (most recent call last)",
            "\u001b[0;32m<ipython-input-8-da3bdd0e2d85>\u001b[0m in \u001b[0;36m<module>\u001b[0;34m\u001b[0m\n\u001b[0;32m----> 1\u001b[0;31m \u001b[0mhelp\u001b[0m\u001b[0;34m(\u001b[0m\u001b[0mfib0\u001b[0m\u001b[0;34m)\u001b[0m\u001b[0;34m\u001b[0m\u001b[0;34m\u001b[0m\u001b[0m\n\u001b[0m",
            "\u001b[0;31mNameError\u001b[0m: name 'fib0' is not defined"
          ]
        }
      ]
    },
    {
      "cell_type": "code",
      "source": [
        "help(fibo)"
      ],
      "metadata": {
        "id": "Oh5xw-wqSmuQ",
        "colab": {
          "base_uri": "https://localhost:8080/"
        },
        "outputId": "b6544312-5514-455b-e716-87140dac5571"
      },
      "execution_count": null,
      "outputs": [
        {
          "output_type": "stream",
          "name": "stdout",
          "text": [
            "Help on function fibo in module __main__:\n",
            "\n",
            "fibo(n)\n",
            "    Print a Fibonacci series up to n.\n",
            "\n"
          ]
        }
      ]
    },
    {
      "cell_type": "code",
      "source": [
        "fibo.__doc__"
      ],
      "metadata": {
        "id": "BFl8Kx0pSpE8",
        "colab": {
          "base_uri": "https://localhost:8080/",
          "height": 36
        },
        "outputId": "156cbcfd-07cc-4e3e-a154-190e35f1d9c6"
      },
      "execution_count": null,
      "outputs": [
        {
          "output_type": "execute_result",
          "data": {
            "text/plain": [
              "'Print a Fibonacci series up to n.'"
            ],
            "application/vnd.google.colaboratory.intrinsic+json": {
              "type": "string"
            }
          },
          "metadata": {},
          "execution_count": 9
        }
      ]
    },
    {
      "cell_type": "code",
      "source": [
        "?fibo"
      ],
      "metadata": {
        "id": "5499NfpKSrtw"
      },
      "execution_count": null,
      "outputs": []
    },
    {
      "cell_type": "markdown",
      "source": [
        "##Function with return"
      ],
      "metadata": {
        "id": "lKpdWTdiUo6W"
      }
    },
    {
      "cell_type": "code",
      "source": [
        "def fibo(n):    # write Fibonacci series up to n\n",
        "  \"\"\"Print a Fibonacci series up to n.\"\"\"\n",
        "  a, b = 0, 1\n",
        "  F_L = []\n",
        "  while a < n:\n",
        "    F_L.append(a)\n",
        "    a, b = b, a+b\n",
        "  return F_L\n",
        "\n",
        "fibo(10)"
      ],
      "metadata": {
        "id": "5ycGPvs0SuUH"
      },
      "execution_count": null,
      "outputs": []
    },
    {
      "cell_type": "code",
      "source": [
        "#return multiple values\n",
        "def power(input):\n",
        "    return input**2, input**3\n",
        "\n",
        "power(3)"
      ],
      "metadata": {
        "id": "lcond0KxSasF"
      },
      "execution_count": null,
      "outputs": []
    },
    {
      "cell_type": "code",
      "source": [
        "x = 5\n",
        "print(id(x))\n",
        "x = 10\n",
        "id(x)"
      ],
      "metadata": {
        "id": "qOsEf7PeitlP"
      },
      "execution_count": null,
      "outputs": []
    },
    {
      "cell_type": "code",
      "source": [
        "x = 10\n",
        "id(x)"
      ],
      "metadata": {
        "id": "yCsX9OrQiuF9"
      },
      "execution_count": null,
      "outputs": []
    },
    {
      "cell_type": "code",
      "source": [
        "def f(y):\n",
        "    y = 5\n",
        "    print(f'inside  function y is: {y} & id:{id(y)}')\n",
        "\n",
        "x = 5\n",
        "f(x)\n",
        "print(f'outside function x is: {x}  & id:{id(x)}')"
      ],
      "metadata": {
        "id": "ixldbJI2ixMo"
      },
      "execution_count": null,
      "outputs": []
    },
    {
      "cell_type": "code",
      "source": [
        "def f(x):\n",
        "    x=['Raipur']\n",
        "\n",
        "    print(f'inside  function city_list is: {x} & id:{id(x)}')\n",
        "\n",
        "city_list = ['Nagpur', 'Pune', 'Mumbai', 'Nasik']\n",
        "print(f'Pre outside function city_list is: {city_list} & id:{id(city_list)}')\n",
        "f(city_list)\n",
        "print(f'outside function city_list is: {city_list} & id:{id(city_list)}')"
      ],
      "metadata": {
        "id": "7BpQXYhzi7UB"
      },
      "execution_count": null,
      "outputs": []
    },
    {
      "cell_type": "code",
      "source": [
        "def f(x):\n",
        "    x[0]=['Raipur']\n",
        "\n",
        "    print(f'inside  function city_list is: {x} & id:{id(x)}')\n",
        "\n",
        "city_list = ['Nagpur', 'Pune', 'Mumbai', 'Nasik']\n",
        "print(f'Pre outside function city_list is: {city_list} & id:{id(city_list)}')\n",
        "f(city_list)\n",
        "print(f'outside function city_list is: {city_list} & id:{id(city_list)}')"
      ],
      "metadata": {
        "id": "grp-sRSwi0lU"
      },
      "execution_count": null,
      "outputs": []
    },
    {
      "cell_type": "code",
      "source": [
        "def pow(x, y=2):\n",
        "  return x**y\n",
        "\n",
        "print (f\"The pow(4) is {pow(4)}\")\n",
        "print(f\"The pow(5,3) is {pow(5,3)}\")\n",
        "print (f\"The pow(5) is {pow(5)}\")"
      ],
      "metadata": {
        "id": "wspaqhaljvgk"
      },
      "execution_count": null,
      "outputs": []
    },
    {
      "cell_type": "code",
      "source": [
        "i=5\n",
        "print(f'The argument outside before function is {i}')\n",
        "def f(arg=i):\n",
        "  print(f'The argument is {arg}')\n",
        "\n",
        "i=6\n",
        "f()\n",
        "print(f'The argument outside after function is {i}')"
      ],
      "metadata": {
        "id": "iUTpCPUOjy-f"
      },
      "execution_count": null,
      "outputs": []
    },
    {
      "cell_type": "markdown",
      "source": [
        "A lambda function is a small anonymous function.\n",
        "\n",
        "A lambda function can take any number of arguments, but can only have one expression.\n",
        "\n",
        "##Syntax:\n",
        "lambda arguments : expression"
      ],
      "metadata": {
        "id": "fjKnHON5nOqd"
      }
    },
    {
      "cell_type": "code",
      "source": [
        "x = lambda a : a + 10\n",
        "print(x(5))"
      ],
      "metadata": {
        "id": "Pi8Wxb9PmgZZ"
      },
      "execution_count": null,
      "outputs": []
    },
    {
      "cell_type": "code",
      "source": [
        "x = lambda a, b, c : a + b * c\n",
        "print(x(5, 6, 2))"
      ],
      "metadata": {
        "id": "xHgJGIDanlrO"
      },
      "execution_count": null,
      "outputs": []
    },
    {
      "cell_type": "markdown",
      "source": [
        "##Why Use Lambda Functions?\n",
        "The power of lambda is better shown when you use them as an anonymous function inside another function.\n",
        "\n",
        "Say you have a function definition that takes one argument, and that argument will be multiplied with an unknown number:"
      ],
      "metadata": {
        "id": "kWpBTtkrn2PK"
      }
    },
    {
      "cell_type": "code",
      "source": [
        "#Use that function definition to make a function that always doubles the number you send in\n",
        "def myfunc(n):\n",
        "  return lambda a : a * n\n",
        "\n",
        "mydoubler = myfunc(2)\n",
        "\n",
        "print(mydoubler(11))"
      ],
      "metadata": {
        "id": "0vvAOGEbnyS1",
        "outputId": "3e1d48d9-7019-4be0-e909-de9aaddc6aab",
        "colab": {
          "base_uri": "https://localhost:8080/"
        }
      },
      "execution_count": null,
      "outputs": [
        {
          "output_type": "stream",
          "name": "stdout",
          "text": [
            "22\n"
          ]
        }
      ]
    },
    {
      "cell_type": "markdown",
      "source": [
        "map() function returns a map object(which is an iterator) of the results after applying the given function to each item of a given iterable (list, tuple etc.)\n",
        "\n",
        "##Syntax:\n",
        "\n",
        "> map(fun, iter)\n",
        "\n",
        "##Parameters:\n",
        "\n",
        "> fun : It is a function to which map passes each element of given iterable.\n",
        "> iter : It is a iterable which is to be mapped.\n",
        "\n",
        "NOTE : You can pass one or more iterable to the map() function.\n",
        "\n",
        "##Returns:\n",
        "\n",
        "Returns a list of the results after applying the given function to each item of a given iterable (list, tuple etc.) \n",
        " \n",
        "NOTE : The returned value from map() (map object) then can be passed to functions like list() (to create a list), set() (to create a set) ."
      ],
      "metadata": {
        "id": "6kEF7FT04fl6"
      }
    },
    {
      "cell_type": "code",
      "source": [
        "x, y = map(int, input().split())"
      ],
      "metadata": {
        "id": "1EgqWCCg4ehJ"
      },
      "execution_count": null,
      "outputs": []
    },
    {
      "cell_type": "code",
      "source": [
        "# Return double of n\n",
        "def addition(n):\n",
        "    return n + n\n",
        "  \n",
        "# We double all numbers using map()\n",
        "numbers = (1, 2, 3, 4)\n",
        "result = map(addition, numbers)\n",
        "print(list(result))"
      ],
      "metadata": {
        "id": "M5nd2_rU4xSk"
      },
      "execution_count": null,
      "outputs": []
    },
    {
      "cell_type": "code",
      "source": [
        "# Return double of n\n",
        "def addition(n):\n",
        "    return n + n\n",
        "  \n",
        "# We double all numbers using map()\n",
        "numbers = (1, 2, 3, 4)\n",
        "result = map(addition, numbers)\n",
        "print(list(result))"
      ],
      "metadata": {
        "id": "EgJmnKQt5lNe"
      },
      "execution_count": null,
      "outputs": []
    },
    {
      "cell_type": "code",
      "source": [
        "# Add two lists using map and lambda\n",
        "  \n",
        "numbers1 = [1, 2, 3]\n",
        "numbers2 = [4, 5, 6]\n",
        "  \n",
        "result = map(lambda x, y: x + y, numbers1, numbers2)\n",
        "print(list(result))"
      ],
      "metadata": {
        "id": "rgJxn0Wx5oV1"
      },
      "execution_count": null,
      "outputs": []
    },
    {
      "cell_type": "code",
      "source": [
        "# List of strings\n",
        "l = ['sat', 'bat', 'cat', 'mat']\n",
        "  \n",
        "# map() can listify the list of strings individually\n",
        "test = list(map(list, l))\n",
        "print(test)"
      ],
      "metadata": {
        "id": "ATKYJWu15sJu"
      },
      "execution_count": null,
      "outputs": []
    },
    {
      "cell_type": "markdown",
      "source": [
        "##List, Multidimensional Lists,  Tuples, Sets, Dictionaries, and File, Exception handling in Python"
      ],
      "metadata": {
        "id": "ZCyRB7hIz7iP"
      }
    },
    {
      "cell_type": "markdown",
      "source": [
        "<a id='list'></a>\n",
        "### Lists\n",
        "* Ordered collection of data [ ]\n",
        "* Many times used to store homogeneous values (can also store heterogeneous values)\n",
        "    * e.g. Numbers, names with the same data type (may be with different data types too)\n",
        "* Mutable: modify in place without creating a new object\n"
      ],
      "metadata": {
        "id": "bohCmuVOvDg9"
      }
    },
    {
      "cell_type": "code",
      "source": [
        "my_list = [1,2,9,4]\n",
        "l = ['sat', 'bat', 'cat', 'mat']\n",
        "l1 = [1, 'SIT', 'Nagpur', 23.062022]\n",
        "print(my_list,'\\n',l,'\\n',l1)"
      ],
      "metadata": {
        "id": "w96y3SX2s7Iv",
        "colab": {
          "base_uri": "https://localhost:8080/"
        },
        "outputId": "a0e38d61-57a5-4f6d-f4f1-42b0a6b4c057"
      },
      "execution_count": null,
      "outputs": [
        {
          "output_type": "stream",
          "name": "stdout",
          "text": [
            "[1, 2, 9, 4] \n",
            " ['sat', 'bat', 'cat', 'mat'] \n",
            " [1, 'SIT', 'Nagpur', 23.062022]\n"
          ]
        }
      ]
    },
    {
      "cell_type": "code",
      "source": [
        "l=['jan','feb','march','april','may','june','july','aug','sept','oct','nov','dec']"
      ],
      "metadata": {
        "id": "4SU9rdbmUMWd"
      },
      "execution_count": null,
      "outputs": []
    },
    {
      "cell_type": "code",
      "source": [
        "print(l[6:9])\n",
        "print(l[::2])\n",
        "print(l[-1:-5:-1])"
      ],
      "metadata": {
        "colab": {
          "base_uri": "https://localhost:8080/"
        },
        "id": "KMAXS-GaVRhn",
        "outputId": "af3cb8b0-ee93-41bc-bac2-d37a1b7a937c"
      },
      "execution_count": null,
      "outputs": [
        {
          "output_type": "stream",
          "name": "stdout",
          "text": [
            "['july', 'aug', 'sept']\n",
            "['jan', 'march', 'may', 'july', 'sept', 'nov']\n",
            "['dec', 'nov', 'oct', 'sept']\n"
          ]
        }
      ]
    },
    {
      "cell_type": "code",
      "source": [
        "for x in range(1,5,1):\n",
        "  print(x)"
      ],
      "metadata": {
        "colab": {
          "base_uri": "https://localhost:8080/"
        },
        "id": "j31ecy8XYNB6",
        "outputId": "948df442-2be3-45b8-9146-19cce20a697d"
      },
      "execution_count": null,
      "outputs": [
        {
          "output_type": "stream",
          "name": "stdout",
          "text": [
            "1\n",
            "2\n",
            "3\n",
            "4\n"
          ]
        }
      ]
    },
    {
      "cell_type": "code",
      "source": [
        "lst = ['sat', 'bat', 'cat', 'mat']\n",
        "print(lst[-1::-1])\n",
        "print(lst[-1: ])\n",
        "print(lst[-1:-4:-1])\n",
        "print(lst[ : ])\n",
        "print(lst[0:2])"
      ],
      "metadata": {
        "colab": {
          "base_uri": "https://localhost:8080/"
        },
        "id": "O9ZD_HZhcRTs",
        "outputId": "ee47a08a-15ef-48a4-8307-b8359db29ed8"
      },
      "execution_count": null,
      "outputs": [
        {
          "output_type": "stream",
          "name": "stdout",
          "text": [
            "['mat', 'cat', 'bat', 'sat']\n",
            "['mat']\n",
            "['mat', 'cat', 'bat']\n",
            "['sat', 'bat', 'cat', 'mat']\n",
            "['sat', 'bat']\n"
          ]
        }
      ]
    },
    {
      "cell_type": "markdown",
      "source": [
        "###how to find out the type of an object in python?"
      ],
      "metadata": {
        "id": "BYEmv53Bv7ji"
      }
    },
    {
      "cell_type": "code",
      "source": [
        "type(my_list)"
      ],
      "metadata": {
        "id": "leWKbM6fvIMO",
        "colab": {
          "base_uri": "https://localhost:8080/"
        },
        "outputId": "bb4f2b71-4f08-4abe-ae45-6c6f58f4d762"
      },
      "execution_count": null,
      "outputs": [
        {
          "output_type": "execute_result",
          "data": {
            "text/plain": [
              "list"
            ]
          },
          "metadata": {},
          "execution_count": 6
        }
      ]
    },
    {
      "cell_type": "code",
      "source": [
        "my_list2 = list(range(-4,10,2))\n",
        "print(my_list2)"
      ],
      "metadata": {
        "id": "EZnR46jEvLdl",
        "colab": {
          "base_uri": "https://localhost:8080/"
        },
        "outputId": "aa6cd4c8-f17c-4624-98ac-3cdfa4b51d16"
      },
      "execution_count": null,
      "outputs": [
        {
          "output_type": "stream",
          "name": "stdout",
          "text": [
            "[-4, -2, 0, 2, 4, 6, 8]\n"
          ]
        }
      ]
    },
    {
      "cell_type": "code",
      "source": [
        "# access list members by index, start at 0, end at n-1\n",
        "print(\"First element =\", my_list[0])\n",
        "print(\"last element =\", my_list[3])"
      ],
      "metadata": {
        "id": "qxYphnlEvN90",
        "colab": {
          "base_uri": "https://localhost:8080/"
        },
        "outputId": "5a86d214-f6e9-4c3c-b79e-66d84e7fc9df"
      },
      "execution_count": null,
      "outputs": [
        {
          "output_type": "stream",
          "name": "stdout",
          "text": [
            "First element = 1\n",
            "last element = 4\n"
          ]
        }
      ]
    },
    {
      "cell_type": "code",
      "source": [
        "#Python also supports negative indexing\n",
        "print(\"last element =\", my_list2[-1])\n",
        "print(\"First element =\", my_list2[-7])"
      ],
      "metadata": {
        "id": "Sz0KJXteth6-",
        "colab": {
          "base_uri": "https://localhost:8080/"
        },
        "outputId": "9f8f1222-c40f-43fc-d006-798e55336d34"
      },
      "execution_count": null,
      "outputs": [
        {
          "output_type": "stream",
          "name": "stdout",
          "text": [
            "last element = 8\n",
            "First element = -4\n"
          ]
        }
      ]
    },
    {
      "cell_type": "code",
      "source": [
        "print(my_list)\n",
        "print(my_list2)\n",
        "#Contatenate lists\n",
        "print(my_list + my_list2)\n",
        "#repetition of lists\n",
        "print(my_list *2)\n",
        "#membership in list\n",
        "print(9 in my_list)\n",
        "print(9 not in my_list)"
      ],
      "metadata": {
        "id": "0SZdsIydvR5v",
        "colab": {
          "base_uri": "https://localhost:8080/"
        },
        "outputId": "d420e26c-5db5-4f57-8618-918d1372c4c6"
      },
      "execution_count": null,
      "outputs": [
        {
          "output_type": "stream",
          "name": "stdout",
          "text": [
            "[1, 2, 9, 4]\n",
            "[-4, -2, 0, 2, 4, 6, 8]\n",
            "[1, 2, 9, 4, -4, -2, 0, 2, 4, 6, 8]\n",
            "[1, 2, 9, 4, 1, 2, 9, 4]\n",
            "True\n",
            "False\n"
          ]
        }
      ]
    },
    {
      "cell_type": "code",
      "source": [
        "my_list.append(7)\n",
        "my_list"
      ],
      "metadata": {
        "colab": {
          "base_uri": "https://localhost:8080/"
        },
        "id": "vxg3syPpfHiI",
        "outputId": "ff9cc5c1-afdc-464e-d92d-10da441a191b"
      },
      "execution_count": null,
      "outputs": [
        {
          "output_type": "execute_result",
          "data": {
            "text/plain": [
              "[1, 2, 9, 4, 7]"
            ]
          },
          "metadata": {},
          "execution_count": 11
        }
      ]
    },
    {
      "cell_type": "code",
      "source": [
        "# modify list\n",
        "del my_list[0]\n",
        "print(my_list)\n",
        "my_list.append(99)\n",
        "print(my_list)\n",
        "my_list.insert(1, 100); print(my_list)\n",
        "my_list[3]=65\n",
        "print(my_list)"
      ],
      "metadata": {
        "id": "iyiRPx3UvYId",
        "colab": {
          "base_uri": "https://localhost:8080/"
        },
        "outputId": "254c6d16-3025-43dc-9608-91e80aacd8a2"
      },
      "execution_count": null,
      "outputs": [
        {
          "output_type": "stream",
          "name": "stdout",
          "text": [
            "[2, 9, 4, 7]\n",
            "[2, 9, 4, 7, 99]\n",
            "[2, 100, 9, 4, 7, 99]\n",
            "[2, 100, 9, 65, 7, 99]\n"
          ]
        }
      ]
    },
    {
      "cell_type": "code",
      "source": [
        "#some list funs\n",
        "my_list.sort()\n",
        "print(my_list)\n",
        "my_list.reverse()\n",
        "print(my_list)"
      ],
      "metadata": {
        "id": "qX3s1T-svaYD",
        "colab": {
          "base_uri": "https://localhost:8080/"
        },
        "outputId": "6e11a3bd-d069-47ff-f598-80018043b6a6"
      },
      "execution_count": null,
      "outputs": [
        {
          "output_type": "stream",
          "name": "stdout",
          "text": [
            "[2, 7, 9, 65, 99, 100]\n",
            "[100, 99, 65, 9, 7, 2]\n"
          ]
        }
      ]
    },
    {
      "cell_type": "code",
      "source": [
        "my_list4 = ['1','70','21','100']\n",
        "#print(id(my_list4))\n",
        "y = my_list4.sort()\n",
        "print(my_list4)\n",
        "print(y)\n",
        "#print(id(my_list4))"
      ],
      "metadata": {
        "id": "bcZHtk5LvgYB",
        "colab": {
          "base_uri": "https://localhost:8080/"
        },
        "outputId": "bd445036-ca5a-436d-823e-af54e6206be5"
      },
      "execution_count": null,
      "outputs": [
        {
          "output_type": "stream",
          "name": "stdout",
          "text": [
            "['1', '100', '21', '70']\n",
            "None\n"
          ]
        }
      ]
    },
    {
      "cell_type": "code",
      "source": [
        "l.sort()\n",
        "print(l)\n",
        "#Sorting is based on ASCII/Unicode"
      ],
      "metadata": {
        "id": "VBln40xfw4eA",
        "colab": {
          "base_uri": "https://localhost:8080/"
        },
        "outputId": "4ac57034-86d0-4412-83ef-5706f4ddd782"
      },
      "execution_count": null,
      "outputs": [
        {
          "output_type": "stream",
          "name": "stdout",
          "text": [
            "['april', 'aug', 'dec', 'feb', 'jan', 'july', 'june', 'march', 'may', 'nov', 'oct', 'sept']\n"
          ]
        }
      ]
    },
    {
      "cell_type": "code",
      "source": [
        "#more sorting\n",
        "my_list3 = ['cats', 'SHEEP','DOGS','horses']\n",
        "print(sorted(my_list3))\n",
        "print(sorted(my_list3, key=len))\n",
        "print(sorted(my_list3, reverse=True))\n",
        "print(my_list3)"
      ],
      "metadata": {
        "id": "O1JFTR0dvhaA",
        "colab": {
          "base_uri": "https://localhost:8080/"
        },
        "outputId": "3c9c0a8c-3d43-44cd-ff16-8fef83342319"
      },
      "execution_count": null,
      "outputs": [
        {
          "output_type": "stream",
          "name": "stdout",
          "text": [
            "['DOGS', 'SHEEP', 'cats', 'horses']\n",
            "['cats', 'DOGS', 'SHEEP', 'horses']\n",
            "['horses', 'cats', 'SHEEP', 'DOGS']\n",
            "['cats', 'SHEEP', 'DOGS', 'horses']\n"
          ]
        }
      ]
    },
    {
      "cell_type": "code",
      "source": [
        "# sort by lowercase\n",
        "sorted(my_list3, key=str.lower)"
      ],
      "metadata": {
        "id": "eqrg82nuvrVK",
        "colab": {
          "base_uri": "https://localhost:8080/"
        },
        "outputId": "f8ef5a65-23f5-4cad-b803-64b0f033f6f9"
      },
      "execution_count": null,
      "outputs": [
        {
          "output_type": "execute_result",
          "data": {
            "text/plain": [
              "['cats', 'DOGS', 'horses', 'SHEEP']"
            ]
          },
          "metadata": {},
          "execution_count": 17
        }
      ]
    },
    {
      "cell_type": "markdown",
      "source": [
        "##Multi-dimensional lists"
      ],
      "metadata": {
        "id": "MAsXavKuCsY_"
      }
    },
    {
      "cell_type": "code",
      "source": [
        "a = [[2, 4, 6, 8, 10], [3, 6, 9, 12, 15], [4, 8, 12, 16, 20]]\n",
        "print(a)\n",
        "print(a[1][3])\n",
        "a[0]"
      ],
      "metadata": {
        "id": "5tomr6NVCgg-",
        "colab": {
          "base_uri": "https://localhost:8080/"
        },
        "outputId": "8211642e-f551-48e1-8737-1125005606f5"
      },
      "execution_count": null,
      "outputs": [
        {
          "output_type": "stream",
          "name": "stdout",
          "text": [
            "[[2, 4, 6, 8, 10], [3, 6, 9, 12, 15], [4, 8, 12, 16, 20]]\n",
            "12\n"
          ]
        },
        {
          "output_type": "execute_result",
          "data": {
            "text/plain": [
              "[2, 4, 6, 8, 10]"
            ]
          },
          "metadata": {},
          "execution_count": 21
        }
      ]
    },
    {
      "cell_type": "code",
      "source": [
        "for record in a:\n",
        "    print(record)"
      ],
      "metadata": {
        "id": "Cr6caHi_CwKV",
        "colab": {
          "base_uri": "https://localhost:8080/"
        },
        "outputId": "493fe05f-7f5f-4b3e-cbb9-0fcbaa94575a"
      },
      "execution_count": null,
      "outputs": [
        {
          "output_type": "stream",
          "name": "stdout",
          "text": [
            "[2, 4, 6, 8, 10]\n",
            "[3, 6, 9, 12, 15]\n",
            "[4, 8, 12, 16, 20]\n"
          ]
        }
      ]
    },
    {
      "cell_type": "code",
      "source": [
        "for i in range(len(a)) : \n",
        "    for j in range(len(a[i])) : \n",
        "        print(a[i][j], end=\" \")\n",
        "    print()    "
      ],
      "metadata": {
        "id": "J4cqDmZsC1iJ",
        "colab": {
          "base_uri": "https://localhost:8080/"
        },
        "outputId": "1786fa3a-0210-4313-d1bd-b5262550c094"
      },
      "execution_count": null,
      "outputs": [
        {
          "output_type": "stream",
          "name": "stdout",
          "text": [
            "2 4 6 8 10 \n",
            "3 6 9 12 15 \n",
            "4 8 12 16 20 \n"
          ]
        }
      ]
    },
    {
      "cell_type": "code",
      "source": [
        "a.append([5, 10, 15, 20, 25])\n",
        "print(a)"
      ],
      "metadata": {
        "id": "clOxF0NIDYfd",
        "colab": {
          "base_uri": "https://localhost:8080/"
        },
        "outputId": "1fcb68f3-34fc-4270-80dc-1e6de423d3bd"
      },
      "execution_count": null,
      "outputs": [
        {
          "output_type": "stream",
          "name": "stdout",
          "text": [
            "[[2, 4, 6, 8, 10], [3, 6, 9, 12, 15], [4, 8, 12, 16, 20], [5, 10, 15, 20, 25]]\n"
          ]
        }
      ]
    },
    {
      "cell_type": "code",
      "source": [
        "a[0].extend([12, 14, 16, 18])\n",
        "print(a)"
      ],
      "metadata": {
        "id": "u1d7wE-RDbeJ",
        "colab": {
          "base_uri": "https://localhost:8080/"
        },
        "outputId": "45264bb6-3dc0-4cf9-d2a6-f5bcae7128dc"
      },
      "execution_count": null,
      "outputs": [
        {
          "output_type": "stream",
          "name": "stdout",
          "text": [
            "[[2, 4, 6, 8, 10, 12, 14, 16, 18], [3, 6, 9, 12, 15], [4, 8, 12, 16, 20], [5, 10, 15, 20, 25]]\n"
          ]
        }
      ]
    },
    {
      "cell_type": "code",
      "source": [
        "a[2].reverse()\n",
        "print(a)"
      ],
      "metadata": {
        "id": "69eQck0hDcC4",
        "colab": {
          "base_uri": "https://localhost:8080/"
        },
        "outputId": "1bf80409-947a-4aa7-bb9b-652b8637be48"
      },
      "execution_count": null,
      "outputs": [
        {
          "output_type": "stream",
          "name": "stdout",
          "text": [
            "[[2, 4, 6, 8, 10, 12, 14, 16, 18], [3, 6, 9, 12, 15], [20, 16, 12, 8, 4], [5, 10, 15, 20, 25]]\n"
          ]
        }
      ]
    },
    {
      "cell_type": "markdown",
      "source": [
        "Creating a multidimensional list with all zeros:"
      ],
      "metadata": {
        "id": "v-4aPLkADEzM"
      }
    },
    {
      "cell_type": "code",
      "source": [
        "m = 4\n",
        "n = 5\n",
        "  \n",
        "a = [[0 for x in range(n)] for x in range(m)]\n",
        "print(a)"
      ],
      "metadata": {
        "id": "ZhHxtz0dDI6-",
        "colab": {
          "base_uri": "https://localhost:8080/"
        },
        "outputId": "a9a31f2f-3b1d-4fc7-e7fe-ce59de1bd19f"
      },
      "execution_count": null,
      "outputs": [
        {
          "output_type": "stream",
          "name": "stdout",
          "text": [
            "[[0, 0, 0, 0, 0], [0, 0, 0, 0, 0], [0, 0, 0, 0, 0], [0, 0, 0, 0, 0]]\n"
          ]
        }
      ]
    },
    {
      "cell_type": "markdown",
      "source": [
        "<a id='tuple'></a>\n",
        "## Tuples\n",
        "\n",
        "* Why Tuple?\n",
        "  * Processed faster than lists\n",
        "  * Sequence of a Tuple is protected\n",
        "  * Sequence unpacking\n",
        "\n",
        "<b>Tuple</b> is same as <b>List</b>, the only difference is that tuples are <b>immutable. Faster</b> than list as it cannot be modified dynamically"
      ],
      "metadata": {
        "id": "km2BMATOzNv8"
      }
    },
    {
      "cell_type": "code",
      "source": [
        "my_tuple = 1, 2, 'three'\n",
        "print(my_tuple)\n",
        "#empty tuples\n",
        "my_empty_tuple = ()\n",
        "print(my_empty_tuple)\n",
        "type(my_tuple)"
      ],
      "metadata": {
        "id": "V9x89KyKvsI0",
        "colab": {
          "base_uri": "https://localhost:8080/"
        },
        "outputId": "4af2507d-d26f-4a14-99f1-b38f28eaa342"
      },
      "execution_count": null,
      "outputs": [
        {
          "output_type": "stream",
          "name": "stdout",
          "text": [
            "(1, 2, 'three')\n",
            "()\n"
          ]
        },
        {
          "output_type": "execute_result",
          "data": {
            "text/plain": [
              "tuple"
            ]
          },
          "metadata": {},
          "execution_count": 29
        }
      ]
    },
    {
      "cell_type": "code",
      "source": [
        "# you have to include a comma, even though there is only one value\n",
        "tup1 = (50,)\n",
        "print(tup1)\n",
        "type(tup1)"
      ],
      "metadata": {
        "id": "alHVBvS8zRgE",
        "colab": {
          "base_uri": "https://localhost:8080/"
        },
        "outputId": "238b3af8-52bb-4441-81ed-c361de5940c7"
      },
      "execution_count": null,
      "outputs": [
        {
          "output_type": "stream",
          "name": "stdout",
          "text": [
            "(50,)\n"
          ]
        },
        {
          "output_type": "execute_result",
          "data": {
            "text/plain": [
              "tuple"
            ]
          },
          "metadata": {},
          "execution_count": 30
        }
      ]
    },
    {
      "cell_type": "code",
      "source": [
        "tup2 = (50, 23)\n",
        "print(type(tup2))\n",
        "#tup2 = 50,\n",
        "type(tup2)"
      ],
      "metadata": {
        "id": "CKOhZJamzUAh",
        "colab": {
          "base_uri": "https://localhost:8080/"
        },
        "outputId": "098730eb-e80c-4f5c-c688-1c8afb06d2e0"
      },
      "execution_count": null,
      "outputs": [
        {
          "output_type": "stream",
          "name": "stdout",
          "text": [
            "<class 'tuple'>\n"
          ]
        },
        {
          "output_type": "execute_result",
          "data": {
            "text/plain": [
              "tuple"
            ]
          },
          "metadata": {},
          "execution_count": 31
        }
      ]
    },
    {
      "cell_type": "code",
      "source": [
        "tup2[1]=98"
      ],
      "metadata": {
        "id": "CR89Wo4dzWbH",
        "colab": {
          "base_uri": "https://localhost:8080/",
          "height": 165
        },
        "outputId": "33e61661-1599-4a8e-d7fc-9680cfa78938"
      },
      "execution_count": null,
      "outputs": [
        {
          "output_type": "error",
          "ename": "TypeError",
          "evalue": "ignored",
          "traceback": [
            "\u001b[0;31m---------------------------------------------------------------------------\u001b[0m",
            "\u001b[0;31mTypeError\u001b[0m                                 Traceback (most recent call last)",
            "\u001b[0;32m<ipython-input-32-565b3f1a1557>\u001b[0m in \u001b[0;36m<module>\u001b[0;34m\u001b[0m\n\u001b[0;32m----> 1\u001b[0;31m \u001b[0mtup2\u001b[0m\u001b[0;34m[\u001b[0m\u001b[0;36m1\u001b[0m\u001b[0;34m]\u001b[0m\u001b[0;34m=\u001b[0m\u001b[0;36m98\u001b[0m\u001b[0;34m\u001b[0m\u001b[0;34m\u001b[0m\u001b[0m\n\u001b[0m",
            "\u001b[0;31mTypeError\u001b[0m: 'tuple' object does not support item assignment"
          ]
        }
      ]
    },
    {
      "cell_type": "code",
      "source": [
        "my_tup = (2, 8, 3, 1)\n",
        "print(my_tup)\n",
        "a,b,c,d = my_tup\n",
        "print(a, b, c, d)"
      ],
      "metadata": {
        "id": "yygIhAUHzZqj",
        "colab": {
          "base_uri": "https://localhost:8080/"
        },
        "outputId": "4f0363f3-efff-426e-9205-5046a4ac8c5e"
      },
      "execution_count": null,
      "outputs": [
        {
          "output_type": "stream",
          "name": "stdout",
          "text": [
            "(2, 8, 3, 1)\n",
            "2 8 3 1\n"
          ]
        }
      ]
    },
    {
      "cell_type": "code",
      "source": [
        "print(my_tup[0])"
      ],
      "metadata": {
        "id": "S_Z05CPazczT",
        "colab": {
          "base_uri": "https://localhost:8080/"
        },
        "outputId": "91379824-264a-40e0-93f3-9f947545569a"
      },
      "execution_count": null,
      "outputs": [
        {
          "output_type": "stream",
          "name": "stdout",
          "text": [
            "2\n"
          ]
        }
      ]
    },
    {
      "cell_type": "code",
      "source": [
        "tup = ('physics', 'chemistry', 1997, 2000)\n",
        "print(tup)"
      ],
      "metadata": {
        "id": "yhHSmFd8zfoZ",
        "colab": {
          "base_uri": "https://localhost:8080/"
        },
        "outputId": "d5a946c1-fc3a-48fb-cad4-61fd9ca198d2"
      },
      "execution_count": null,
      "outputs": [
        {
          "output_type": "stream",
          "name": "stdout",
          "text": [
            "('physics', 'chemistry', 1997, 2000)\n"
          ]
        }
      ]
    },
    {
      "cell_type": "code",
      "source": [
        "del tup\n",
        "print(\"After deleting tup : \");\n",
        "print(tup)"
      ],
      "metadata": {
        "id": "RbMTYp__zjTh",
        "colab": {
          "base_uri": "https://localhost:8080/",
          "height": 217
        },
        "outputId": "d8563053-0a19-4875-9e94-2986ea5cbb09"
      },
      "execution_count": null,
      "outputs": [
        {
          "output_type": "stream",
          "name": "stdout",
          "text": [
            "After deleting tup : \n"
          ]
        },
        {
          "output_type": "error",
          "ename": "NameError",
          "evalue": "ignored",
          "traceback": [
            "\u001b[0;31m---------------------------------------------------------------------------\u001b[0m",
            "\u001b[0;31mNameError\u001b[0m                                 Traceback (most recent call last)",
            "\u001b[0;32m<ipython-input-36-8f9bcd963457>\u001b[0m in \u001b[0;36m<module>\u001b[0;34m\u001b[0m\n\u001b[1;32m      1\u001b[0m \u001b[0;32mdel\u001b[0m \u001b[0mtup\u001b[0m\u001b[0;34m\u001b[0m\u001b[0;34m\u001b[0m\u001b[0m\n\u001b[1;32m      2\u001b[0m \u001b[0mprint\u001b[0m\u001b[0;34m(\u001b[0m\u001b[0;34m\"After deleting tup : \"\u001b[0m\u001b[0;34m)\u001b[0m\u001b[0;34m;\u001b[0m\u001b[0;34m\u001b[0m\u001b[0;34m\u001b[0m\u001b[0m\n\u001b[0;32m----> 3\u001b[0;31m \u001b[0mprint\u001b[0m\u001b[0;34m(\u001b[0m\u001b[0mtup\u001b[0m\u001b[0;34m)\u001b[0m\u001b[0;34m\u001b[0m\u001b[0;34m\u001b[0m\u001b[0m\n\u001b[0m",
            "\u001b[0;31mNameError\u001b[0m: name 'tup' is not defined"
          ]
        }
      ]
    },
    {
      "cell_type": "markdown",
      "source": [
        "Immutable?  Not?"
      ],
      "metadata": {
        "id": "7FDf-HcE1yKN"
      }
    },
    {
      "cell_type": "code",
      "source": [
        "dum = ('1861-10-23', ['poetry', 'pretend-fight'])\n",
        "dee = ('1861-10-23', ['poetry', 'pretend-fight'])\n",
        "\n",
        "print(dum == dee)\n",
        "\n",
        "print(dum is dee)\n",
        "\n",
        "id(dum), id(dee)"
      ],
      "metadata": {
        "id": "eH1Hx-Wo1ucf",
        "colab": {
          "base_uri": "https://localhost:8080/"
        },
        "outputId": "e5f9f595-c7ca-4064-c1b8-c736f6bd4de4"
      },
      "execution_count": null,
      "outputs": [
        {
          "output_type": "stream",
          "name": "stdout",
          "text": [
            "True\n",
            "False\n"
          ]
        },
        {
          "output_type": "execute_result",
          "data": {
            "text/plain": [
              "(140356032776144, 140356032558576)"
            ]
          },
          "metadata": {},
          "execution_count": 1
        }
      ]
    },
    {
      "cell_type": "code",
      "source": [
        "dum+dee"
      ],
      "metadata": {
        "id": "yt4uCTqZkNGf",
        "outputId": "47bcbbb3-34cd-44ad-da69-7bc6a3aeb798",
        "colab": {
          "base_uri": "https://localhost:8080/"
        }
      },
      "execution_count": null,
      "outputs": [
        {
          "output_type": "execute_result",
          "data": {
            "text/plain": [
              "('1861-10-23',\n",
              " ['poetry', 'pretend-fight'],\n",
              " '1861-10-23',\n",
              " ['poetry', 'pretend-fight'])"
            ]
          },
          "metadata": {},
          "execution_count": 2
        }
      ]
    },
    {
      "cell_type": "code",
      "source": [
        "t_doom = dum\n",
        "print(dum, t_doom)\n",
        "\n",
        "print(t_doom == dum)\n",
        "print(t_doom is dum)\n",
        "id(t_doom), id(dum)"
      ],
      "metadata": {
        "id": "1q3-KcMH12cu",
        "colab": {
          "base_uri": "https://localhost:8080/"
        },
        "outputId": "c181fc72-6609-4388-e896-af588991c661"
      },
      "execution_count": null,
      "outputs": [
        {
          "output_type": "stream",
          "name": "stdout",
          "text": [
            "('1861-10-23', ['poetry', 'pretend-fight']) ('1861-10-23', ['poetry', 'pretend-fight'])\n",
            "True\n",
            "True\n"
          ]
        },
        {
          "output_type": "execute_result",
          "data": {
            "text/plain": [
              "(139815583469312, 139815583469312)"
            ]
          },
          "metadata": {},
          "execution_count": 38
        }
      ]
    },
    {
      "cell_type": "code",
      "source": [
        "skills = t_doom[1]\n",
        "print(skills)\n",
        "\n",
        "skills.append('rap')\n",
        "print(t_doom)"
      ],
      "metadata": {
        "id": "XjWY40VP16LO",
        "colab": {
          "base_uri": "https://localhost:8080/"
        },
        "outputId": "29fd055a-514a-410a-8a0b-c2f286b363fb"
      },
      "execution_count": null,
      "outputs": [
        {
          "output_type": "stream",
          "name": "stdout",
          "text": [
            "['poetry', 'pretend-fight']\n",
            "('1861-10-23', ['poetry', 'pretend-fight', 'rap'])\n"
          ]
        }
      ]
    },
    {
      "cell_type": "code",
      "source": [
        "t_doom[1].append('rapper')"
      ],
      "metadata": {
        "id": "tzFzbY-PqyNl"
      },
      "execution_count": null,
      "outputs": []
    },
    {
      "cell_type": "markdown",
      "source": [
        "Suprising Trait:\n",
        "\n",
        "Python tuples are immutable, but their values may change. This may happen when a tuple holds a reference to any mutable object, such as a list. ... It's clear that dum and dee refer to objects that are equal, but not to the same object."
      ],
      "metadata": {
        "id": "JkkvDT780F9f"
      }
    },
    {
      "cell_type": "code",
      "source": [
        "print(dum == dee)\n",
        "print(dum)\n",
        "print(dee)"
      ],
      "metadata": {
        "id": "MSMwJ0yj19D3"
      },
      "execution_count": null,
      "outputs": []
    },
    {
      "cell_type": "code",
      "source": [
        "dum[1]=40"
      ],
      "metadata": {
        "id": "rhDZ0XFNrQIT"
      },
      "execution_count": null,
      "outputs": []
    },
    {
      "cell_type": "markdown",
      "source": [
        "<b>Set</b> is an unordered collection of unique items"
      ],
      "metadata": {
        "id": "ME52romz2H4R"
      }
    },
    {
      "cell_type": "code",
      "source": [
        "#Python Set\n",
        "set1 = {3, 4, 5, 1, 2}\n",
        "print(set1)"
      ],
      "metadata": {
        "id": "VWWZhrQZ2HEj"
      },
      "execution_count": null,
      "outputs": []
    },
    {
      "cell_type": "code",
      "source": [
        "set2 = {4,3,1,2,5}\n",
        "set1 == set2\n",
        "#print(set1 is set2)"
      ],
      "metadata": {
        "id": "J1mM6UWbLRHQ"
      },
      "execution_count": null,
      "outputs": []
    },
    {
      "cell_type": "code",
      "source": [
        "#Operations on Set\n",
        "set1.add(9) #Add Element to Set\n",
        "print(set1)\n",
        "set1.update([3, 10]) #Update existing Set with new elements\n",
        "print(set1)\n",
        "set1.discard(2) #Removes an element from the Set (No Error if element does not exists, Set remains unchanged)\n",
        "print(set1)\n",
        "set1.remove(5) #Removes an element from the Set (Raises an error in element does not exists)\n",
        "print(set1)\n",
        "set1.pop() #removes random element\n",
        "print(set1)\n",
        "set1.clear() #Removes all elements from the Set \n",
        "print(set1)"
      ],
      "metadata": {
        "id": "bZhwDyiU2NTa"
      },
      "execution_count": null,
      "outputs": []
    },
    {
      "cell_type": "code",
      "source": [
        "set1 = {1, 2, 3, 4}\n",
        "set2 = {3, 4, 5}\n",
        "print(set1|set2)\n",
        "print(set1.union(set2))"
      ],
      "metadata": {
        "id": "dSfW8wpv2Pj5",
        "colab": {
          "base_uri": "https://localhost:8080/"
        },
        "outputId": "56b3ef0a-4deb-4b4e-b2a4-b1138b6c819f"
      },
      "execution_count": null,
      "outputs": [
        {
          "output_type": "stream",
          "name": "stdout",
          "text": [
            "{1, 2, 3, 4, 5}\n",
            "{1, 2, 3, 4, 5}\n"
          ]
        }
      ]
    },
    {
      "cell_type": "code",
      "source": [
        "print(set1&set2)\n",
        "print(set1.intersection(set2))"
      ],
      "metadata": {
        "id": "d1Fzb6qq2Ry9",
        "colab": {
          "base_uri": "https://localhost:8080/"
        },
        "outputId": "660899ed-10f0-4588-efe5-bb96f2367ff5"
      },
      "execution_count": null,
      "outputs": [
        {
          "output_type": "stream",
          "name": "stdout",
          "text": [
            "{3, 4}\n",
            "{3, 4}\n"
          ]
        }
      ]
    },
    {
      "cell_type": "code",
      "source": [
        "print(set1-set2)\n",
        "print(set1.difference(set2))"
      ],
      "metadata": {
        "id": "HDFdahbu2TsO",
        "colab": {
          "base_uri": "https://localhost:8080/"
        },
        "outputId": "21f23e77-ff86-4c0e-8bcd-529f506d3eb8"
      },
      "execution_count": null,
      "outputs": [
        {
          "output_type": "stream",
          "name": "stdout",
          "text": [
            "{1, 2}\n",
            "{1, 2}\n"
          ]
        }
      ]
    },
    {
      "cell_type": "code",
      "source": [
        "print(set1^set2)\n",
        "print(set1.symmetric_difference(set2))"
      ],
      "metadata": {
        "id": "qAr67V0S2W7x",
        "colab": {
          "base_uri": "https://localhost:8080/"
        },
        "outputId": "8bbdeccd-0067-45ea-f18e-2883f63dc72e"
      },
      "execution_count": null,
      "outputs": [
        {
          "output_type": "stream",
          "name": "stdout",
          "text": [
            "{1, 2, 5}\n",
            "{1, 2, 5}\n"
          ]
        }
      ]
    },
    {
      "cell_type": "markdown",
      "source": [
        "<a id='dic'></a>\n",
        "## Dictionaries\n",
        "* List of key-value pairs { }\n",
        "* Unordered collections of objects, not indexed\n",
        "* Store objects in a random order to provide faster lookup\n",
        "* Data type are heterogeneous\n",
        "* Element are accessed by a keyword, not index\n",
        "* Elements are mutable \n",
        "* dict = {\"key1”: value1,  “key2”: value2} \n",
        "\n",
        "<b>Dictionary</b> is an unordered collection of 'key':'value' pairs. It is generally used when we have a huge amount of data.\n",
        "Dictionaries are optimized for retrieving data."
      ],
      "metadata": {
        "id": "A86rYPMH2dVa"
      }
    },
    {
      "cell_type": "code",
      "source": [
        "#Python Dictionary\n",
        "dict1 = {1:'value', 'key':2}\n",
        "print(type(dict1))"
      ],
      "metadata": {
        "id": "VUA64guY2euG",
        "colab": {
          "base_uri": "https://localhost:8080/"
        },
        "outputId": "8bce8eb7-3d76-466c-e440-bf75709d8201"
      },
      "execution_count": null,
      "outputs": [
        {
          "output_type": "stream",
          "name": "stdout",
          "text": [
            "<class 'dict'>\n"
          ]
        }
      ]
    },
    {
      "cell_type": "code",
      "source": [
        "#Create Dictionary in Python\n",
        "dict2={\"College\":\"NIT\", \"City\":\"Raipur\", \"City\":\"Nagpur\"}\n",
        "print(dict2[\"City\"])\n",
        "print(dict2[\"College\"])"
      ],
      "metadata": {
        "id": "cAyyCKjn2iz9",
        "colab": {
          "base_uri": "https://localhost:8080/"
        },
        "outputId": "ded70aca-c986-4260-fd8d-bb2793dbd307"
      },
      "execution_count": null,
      "outputs": [
        {
          "output_type": "stream",
          "name": "stdout",
          "text": [
            "Nagpur\n",
            "NIT\n"
          ]
        }
      ]
    },
    {
      "cell_type": "code",
      "source": [
        "#Update value of a key in Python Dictionary\n",
        "dict2[\"College\"]=\"National Institute of Technology\"\n",
        "print(dict2[\"College\"])\n",
        "dict2"
      ],
      "metadata": {
        "id": "3zk69_ci2mqv",
        "colab": {
          "base_uri": "https://localhost:8080/"
        },
        "outputId": "0ccb6fa3-673c-44d0-f534-2395a7dcd7ba"
      },
      "execution_count": null,
      "outputs": [
        {
          "output_type": "stream",
          "name": "stdout",
          "text": [
            "National Institute of Technology\n"
          ]
        },
        {
          "output_type": "execute_result",
          "data": {
            "text/plain": [
              "{'College': 'National Institute of Technology', 'City': 'Nagpur'}"
            ]
          },
          "metadata": {},
          "execution_count": 6
        }
      ]
    },
    {
      "cell_type": "code",
      "source": [
        "#Add new element to the existing Python Dictionary\n",
        "dict2[\"State\"]=\"Chhattisgarh\"\n",
        "print(dict2[\"State\"])\n",
        "print(dict2)"
      ],
      "metadata": {
        "id": "jFENBnbQ2otn",
        "colab": {
          "base_uri": "https://localhost:8080/"
        },
        "outputId": "9f2388dc-3ce1-4006-91f3-5bc524bd36f8"
      },
      "execution_count": null,
      "outputs": [
        {
          "output_type": "stream",
          "name": "stdout",
          "text": [
            "Chhattisgarh\n",
            "{'College': 'NIT', 'City': 'Nagpur', 'State': 'Chhattisgarh'}\n"
          ]
        }
      ]
    },
    {
      "cell_type": "code",
      "source": [
        "dict3 = sorted(dict2);\n",
        "print(dict3)\n",
        "print(dict2.values())\n",
        "print(dict2.keys())\n",
        "type(dict3)"
      ],
      "metadata": {
        "id": "s16A0S5p2rtJ",
        "colab": {
          "base_uri": "https://localhost:8080/"
        },
        "outputId": "2b897941-4298-4417-f26d-7515c3aacd32"
      },
      "execution_count": null,
      "outputs": [
        {
          "output_type": "stream",
          "name": "stdout",
          "text": [
            "['City', 'College', 'State']\n",
            "dict_values(['NIT', 'Nagpur', 'Chhattisgarh'])\n",
            "dict_keys(['College', 'City', 'State'])\n"
          ]
        },
        {
          "output_type": "execute_result",
          "data": {
            "text/plain": [
              "list"
            ]
          },
          "metadata": {},
          "execution_count": 15
        }
      ]
    },
    {
      "cell_type": "code",
      "source": [
        "#Print Sorted Dictionary\n",
        "for i in ['City', 'College', 'State']:\n",
        "  #print((i, dict2[i]), end = \" \")\n",
        "  print('{0} : {1}'.format(i, dict2[i]))"
      ],
      "metadata": {
        "id": "XA6Z43cJ2t7U",
        "colab": {
          "base_uri": "https://localhost:8080/"
        },
        "outputId": "61f2c008-6ee2-44e7-8bf4-0cf4b06af3eb"
      },
      "execution_count": null,
      "outputs": [
        {
          "output_type": "stream",
          "name": "stdout",
          "text": [
            "City : Nagpur\n",
            "College : NIT\n",
            "State : Chhattisgarh\n"
          ]
        }
      ]
    },
    {
      "cell_type": "code",
      "source": [],
      "metadata": {
        "id": "Y2emNYvB3Inn"
      },
      "execution_count": null,
      "outputs": []
    },
    {
      "cell_type": "markdown",
      "source": [
        "<a id='file'></a>\n",
        "## Files\n",
        "* file open, close, read, write\n",
        "* file_handle = open(“file_name”, ‘mode’)\n",
        "  * Modes: \n",
        "    * a: append\n",
        "    * r: read only (error if not existing)\n",
        "    * w: write only\n",
        "    * r+: read/write (error if not existing)\n",
        "    * w+: read/write\n",
        "    * b: binary\n",
        "* Python has a built-in garbage collector\n",
        "* Object memory space is auto reclaimed once a file is no longer in use"
      ],
      "metadata": {
        "id": "Gvbebv4N3p6z"
      }
    },
    {
      "cell_type": "code",
      "source": [
        "input = open('/content/abc.txt', 'r')\n",
        "content = input.read()\n",
        "input.close()\n",
        "print(content)"
      ],
      "metadata": {
        "id": "jdoS0RnT3z_g",
        "colab": {
          "base_uri": "https://localhost:8080/"
        },
        "outputId": "75ff6669-cbb4-4a73-ac40-1b9b546f4879"
      },
      "execution_count": null,
      "outputs": [
        {
          "output_type": "stream",
          "name": "stdout",
          "text": [
            "Hi Welcome Sagar. How are you doing\n",
            "\n"
          ]
        }
      ]
    },
    {
      "cell_type": "code",
      "source": [
        "#write to a file\n",
        "output = open('write.txt','w')\n",
        "output.write(\"Writing to a file any data you wish to write\")\n",
        "output.close()\n",
        "#!cat write.txt"
      ],
      "metadata": {
        "id": "lUPQz8qP32xF"
      },
      "execution_count": null,
      "outputs": []
    },
    {
      "cell_type": "code",
      "source": [
        "input = open('/content/write.txt', 'r')\n",
        "content = input.read()\n",
        "input.close()\n",
        "print(content)"
      ],
      "metadata": {
        "id": "4ogX4YBK-n24",
        "colab": {
          "base_uri": "https://localhost:8080/"
        },
        "outputId": "459c9cfd-2454-413b-81d0-867155ee1c7b"
      },
      "execution_count": null,
      "outputs": [
        {
          "output_type": "stream",
          "name": "stdout",
          "text": [
            "Writing to a file any data you wish to write\n"
          ]
        }
      ]
    },
    {
      "cell_type": "code",
      "source": [
        "with open(\"/content/write.txt\", \"r\") as file:\n",
        "    data = file.readlines()\n",
        "    for line in data:\n",
        "        word = line.split()\n",
        "        print (word)"
      ],
      "metadata": {
        "colab": {
          "base_uri": "https://localhost:8080/"
        },
        "id": "MpNR7vDiLeas",
        "outputId": "2a0446bd-4573-49ee-d03e-c8c71bdf8df4"
      },
      "execution_count": null,
      "outputs": [
        {
          "output_type": "stream",
          "name": "stdout",
          "text": [
            "['Writing', 'to', 'a', 'file', 'any', 'data', 'you', 'wish', 'to', 'write']\n"
          ]
        }
      ]
    },
    {
      "cell_type": "markdown",
      "source": [
        "##Exceptions\n",
        "  Exceptions are raised when the program is syntactically correct, but the code resulted in an error. This error does not stop the execution of the program, however, it changes the normal flow of the program."
      ],
      "metadata": {
        "id": "Oxp4GE1E8LUY"
      }
    },
    {
      "cell_type": "code",
      "source": [
        "# initialize the amount variable\n",
        "marks = 10000\n",
        " \n",
        "# perform division with 0\n",
        "a = marks / 0\n",
        "print(a)"
      ],
      "metadata": {
        "id": "vGOIVXko8Q2f",
        "colab": {
          "base_uri": "https://localhost:8080/",
          "height": 217
        },
        "outputId": "de78b93a-feee-451d-fcd7-539cd0ea397d"
      },
      "execution_count": null,
      "outputs": [
        {
          "output_type": "error",
          "ename": "ZeroDivisionError",
          "evalue": "ignored",
          "traceback": [
            "\u001b[0;31m---------------------------------------------------------------------------\u001b[0m",
            "\u001b[0;31mZeroDivisionError\u001b[0m                         Traceback (most recent call last)",
            "\u001b[0;32m<ipython-input-21-acd11161e3ad>\u001b[0m in \u001b[0;36m<module>\u001b[0;34m()\u001b[0m\n\u001b[1;32m      3\u001b[0m \u001b[0;34m\u001b[0m\u001b[0m\n\u001b[1;32m      4\u001b[0m \u001b[0;31m# perform division with 0\u001b[0m\u001b[0;34m\u001b[0m\u001b[0;34m\u001b[0m\u001b[0;34m\u001b[0m\u001b[0m\n\u001b[0;32m----> 5\u001b[0;31m \u001b[0ma\u001b[0m \u001b[0;34m=\u001b[0m \u001b[0mmarks\u001b[0m \u001b[0;34m/\u001b[0m \u001b[0;36m0\u001b[0m\u001b[0;34m\u001b[0m\u001b[0;34m\u001b[0m\u001b[0m\n\u001b[0m\u001b[1;32m      6\u001b[0m \u001b[0mprint\u001b[0m\u001b[0;34m(\u001b[0m\u001b[0ma\u001b[0m\u001b[0;34m)\u001b[0m\u001b[0;34m\u001b[0m\u001b[0;34m\u001b[0m\u001b[0m\n",
            "\u001b[0;31mZeroDivisionError\u001b[0m: division by zero"
          ]
        }
      ]
    },
    {
      "cell_type": "markdown",
      "source": [
        "In the above example raised the ZeroDivisionError as we are trying to divide a number by 0. \\\\\n",
        "**Note:** Exception is the base class for all the exceptions in Python. You can check the exception hierarchy here https://docs.python.org/2/library/exceptions.html#exception-hierarchy."
      ],
      "metadata": {
        "id": "3G45JV5l8YKV"
      }
    },
    {
      "cell_type": "markdown",
      "source": [
        "**Try and Except Statement –** Catching Exceptions\n",
        "Try and except statements are used to catch and handle exceptions in Python. Statements that can raise exceptions are kept inside the try clause and the statements that handle the exception are written inside except clause."
      ],
      "metadata": {
        "id": "j4711t1n8zRb"
      }
    },
    {
      "cell_type": "code",
      "source": [
        "# Python program to handle simple runtime error\n",
        "#Python 3\n",
        "a = [1, 2, 3]\n",
        "try:\n",
        "    print (\"Second element = %d\" %(a[1]))\n",
        " \n",
        "    # Throws error since there are only 3 elements in array\n",
        "    print (\"Fourth element = %d\" %(a[3]))\n",
        " \n",
        "except:\n",
        "    print (\"Index out of Bound\")"
      ],
      "metadata": {
        "id": "VYZRnU6Q8qWp",
        "colab": {
          "base_uri": "https://localhost:8080/"
        },
        "outputId": "7f45ac22-7188-442c-b882-d2521df87bca"
      },
      "execution_count": null,
      "outputs": [
        {
          "output_type": "stream",
          "name": "stdout",
          "text": [
            "Second element = 2\n",
            "Index out of Bound\n"
          ]
        }
      ]
    },
    {
      "cell_type": "markdown",
      "source": [
        "In the above example, the statements that can cause the error are placed inside the try statement (second print statement in our case). The second print statement tries to access the fourth element of the list which is not there and this throws an exception. This exception is then caught by the except statement."
      ],
      "metadata": {
        "id": "HxLsJ4lp9E_N"
      }
    },
    {
      "cell_type": "markdown",
      "source": [
        "**Catching Specific Exception**\n",
        "A try statement can have more than one except clause, to specify handlers for different exceptions. Please note that at most one handler will be executed. For example, we can add IndexError in the above code. The general syntax for adding specific exceptions are –\n",
        "\n",
        "try:\n",
        "> #statement(s) \\\\\n",
        "\n",
        "except IndexError:\n",
        "> #statement(s) \\\\\n",
        "\n",
        "except ValueError:\n",
        "> #statement(s)"
      ],
      "metadata": {
        "id": "RXHLyswZ9pmy"
      }
    },
    {
      "cell_type": "code",
      "source": [
        "# Program to handle multiple errors with one\n",
        "# except statement in Python\n",
        " \n",
        "def fun(a):\n",
        "    if a < 4:\n",
        " \n",
        "        # throws ZeroDivisionError for a = 3\n",
        "        b = a/(a-3)\n",
        " \n",
        "    # throws NameError if a >= 4\n",
        "    print(\"Value of b = \", b)\n",
        "     \n",
        "try:\n",
        "    #fun(3)\n",
        "    fun(5)\n",
        " \n",
        "# note that braces () are necessary here for multiple exceptions\n",
        "except ZeroDivisionError:\n",
        "    print(\"ZeroDivisionError Occurred and Handled\")\n",
        "except NameError:\n",
        "    print(\"NameError Occurred and Handled\")"
      ],
      "metadata": {
        "id": "wRKHS-v79I_7",
        "colab": {
          "base_uri": "https://localhost:8080/"
        },
        "outputId": "8fd9c292-8dcb-487f-ef92-bc16492c1ae1"
      },
      "execution_count": null,
      "outputs": [
        {
          "output_type": "stream",
          "name": "stdout",
          "text": [
            "NameError Occurred and Handled\n"
          ]
        }
      ]
    },
    {
      "cell_type": "markdown",
      "source": [
        "**Try with Else Clause**\n",
        "In python, you can also use the else clause on the try-except block which must be present after all the except clauses. The code enters the else block only if the try clause does not raise an exception."
      ],
      "metadata": {
        "id": "9Tgsuzt3-UTw"
      }
    },
    {
      "cell_type": "code",
      "source": [
        "# Program to depict else clause with try-except\n",
        "# Function which returns a/b\n",
        "def AdivbyB(a , b):\n",
        "    try:\n",
        "        c = ((a+b) / (a-b))\n",
        "    except ZeroDivisionError:\n",
        "        print (\"a/b result in 0\")\n",
        "    else:\n",
        "        print (c)\n",
        " \n",
        "# Driver program to test above function\n",
        "AdivbyB(2.0, 3.0)\n",
        "#AdivbyB(3.0, 3.0)"
      ],
      "metadata": {
        "id": "fx6U8lcw-YIq"
      },
      "execution_count": null,
      "outputs": []
    },
    {
      "cell_type": "markdown",
      "source": [
        "**Finally Keyword in Python**\n",
        "Python provides a keyword finally, which is always executed after the try and except blocks. The final block always executes after normal termination of try block or after try block terminates due to some exception."
      ],
      "metadata": {
        "id": "VHh7uVpG-jKn"
      }
    },
    {
      "cell_type": "code",
      "source": [
        "# Python program to demonstrate finally\n",
        " \n",
        "# No exception Exception raised in try block\n",
        "try:\n",
        "    k = 5//3  # raises divide by zero exception.\n",
        "    print(k)\n",
        " \n",
        "# handles zerodivision exception\n",
        "except ZeroDivisionError:\n",
        "    print(\"Can't divide by zero\")\n",
        " \n",
        "finally:\n",
        "    # this block is always executed\n",
        "    # regardless of exception generation.\n",
        "    print('This is always executed')"
      ],
      "metadata": {
        "id": "fr9iBDHZ-lwJ",
        "colab": {
          "base_uri": "https://localhost:8080/"
        },
        "outputId": "fddfb3c7-68f5-4184-b2ff-d0d4050fab2d"
      },
      "execution_count": null,
      "outputs": [
        {
          "output_type": "stream",
          "name": "stdout",
          "text": [
            "1\n",
            "This is always executed\n"
          ]
        }
      ]
    },
    {
      "cell_type": "markdown",
      "source": [
        "**Raising Exception**\n",
        "The raise statement allows the programmer to force a specific exception to occur. The sole argument in raise indicates the exception to be raised. This must be either an exception instance or an exception class (a class that derives from Exception)."
      ],
      "metadata": {
        "id": "uPt-j_uK-wDH"
      }
    },
    {
      "cell_type": "code",
      "source": [
        "# Program to depict Raising Exception\n",
        "try:\n",
        "  raise NameError(\"Hi there\")  # Raise Error\n",
        "except NameError:\n",
        "    print (\"An exception\")\n",
        "    #raise  # To determine whether the exception was raised or not"
      ],
      "metadata": {
        "id": "_aAjsBKs-zMY"
      },
      "execution_count": null,
      "outputs": []
    },
    {
      "cell_type": "markdown",
      "source": [
        "The output of the above code will simply line printed as “An exception” but a Runtime error will also occur in the last due to the raise statement in the last line. So, the output on your command line will look like "
      ],
      "metadata": {
        "id": "h6yfORu7D3Fl"
      }
    },
    {
      "cell_type": "markdown",
      "source": [
        "##Classes and Objects in Python"
      ],
      "metadata": {
        "id": "__XaASretbSi"
      }
    },
    {
      "cell_type": "code",
      "source": [
        "#Creating Class in Python\n",
        "class Student:\n",
        "  college = 'SIT' #Class Variable\n",
        "  def __init__(self):\n",
        "    self.sem = 'I' #Instance Variable\n",
        "    self.strength = 66\n",
        "    self.section = 'C'\n",
        "  def Branch(self):\n",
        "    print('This is Computer Engineering ' + self.sem + ' Semester')"
      ],
      "metadata": {
        "id": "i4yAd7I55Ywc"
      },
      "execution_count": null,
      "outputs": []
    },
    {
      "cell_type": "code",
      "source": [
        "obj = Student()\n",
        "obj.section"
      ],
      "metadata": {
        "colab": {
          "base_uri": "https://localhost:8080/",
          "height": 35
        },
        "id": "BjIO2H3o6QfV",
        "outputId": "26baeb15-cc03-4694-e1c8-d0fea00acae5"
      },
      "execution_count": null,
      "outputs": [
        {
          "output_type": "execute_result",
          "data": {
            "text/plain": [
              "'C'"
            ],
            "application/vnd.google.colaboratory.intrinsic+json": {
              "type": "string"
            }
          },
          "metadata": {},
          "execution_count": 43
        }
      ]
    },
    {
      "cell_type": "code",
      "source": [
        "print(type(obj))"
      ],
      "metadata": {
        "colab": {
          "base_uri": "https://localhost:8080/"
        },
        "id": "7CoIKaT7cpsZ",
        "outputId": "2b745560-e4d9-45e5-d8d0-8aa108d8c55e"
      },
      "execution_count": null,
      "outputs": [
        {
          "output_type": "stream",
          "name": "stdout",
          "text": [
            "<class '__main__.Student'>\n"
          ]
        }
      ]
    },
    {
      "cell_type": "code",
      "source": [
        "#Creating Class in Python by passing attributes as parameter\n",
        "class Student1:\n",
        "  college = 'SIT'\n",
        "  def __init__(self, sem, strength, section):\n",
        "    self.sem = sem\n",
        "    self.strength = strength\n",
        "    self.section = section\n",
        "  def Branch(self):\n",
        "    print('This is Computer Engineering ', self.sem + ' Semester')"
      ],
      "metadata": {
        "id": "K-EF140HoSSd"
      },
      "execution_count": null,
      "outputs": []
    },
    {
      "cell_type": "code",
      "source": [
        "obj2 = Student1('II',58,'B')\n",
        "obj2.section"
      ],
      "metadata": {
        "colab": {
          "base_uri": "https://localhost:8080/",
          "height": 35
        },
        "id": "GshcBmfenebB",
        "outputId": "22939347-a488-4ca6-e159-8c298ac56893"
      },
      "execution_count": null,
      "outputs": [
        {
          "output_type": "execute_result",
          "data": {
            "text/plain": [
              "'B'"
            ],
            "application/vnd.google.colaboratory.intrinsic+json": {
              "type": "string"
            }
          },
          "metadata": {},
          "execution_count": 46
        }
      ]
    },
    {
      "cell_type": "code",
      "source": [
        "obj2.Branch() # This command internally calls Student1.Branch(obj2)"
      ],
      "metadata": {
        "colab": {
          "base_uri": "https://localhost:8080/"
        },
        "id": "3hJwOGcXoihi",
        "outputId": "43b641d6-e220-492e-9a4b-c6dff2a73a03"
      },
      "execution_count": null,
      "outputs": [
        {
          "output_type": "stream",
          "name": "stdout",
          "text": [
            "This is Computer Engineering  II Semester\n"
          ]
        }
      ]
    },
    {
      "cell_type": "code",
      "source": [
        "Student1.Branch(obj2)"
      ],
      "metadata": {
        "colab": {
          "base_uri": "https://localhost:8080/"
        },
        "id": "jtgJLvlAsga7",
        "outputId": "a9364a03-ea9f-4fab-e819-8fc09716b788"
      },
      "execution_count": null,
      "outputs": [
        {
          "output_type": "stream",
          "name": "stdout",
          "text": [
            "This is Computer Engineering  II Semester\n"
          ]
        }
      ]
    },
    {
      "cell_type": "code",
      "source": [
        "#Creating Class in Python with self as MyVar\n",
        "class Student2:\n",
        "  college = 'SIT'\n",
        "  def __init__(MyVar, sem, strength, section):\n",
        "    MyVar.sem = sem\n",
        "    MyVar.strength = strength\n",
        "    MyVar.section = section\n",
        "  def Branch(MyV):\n",
        "    print('This is Computer Engineering ', MyV.sem + ' Semester')"
      ],
      "metadata": {
        "id": "NM2Is8BGL9-L"
      },
      "execution_count": null,
      "outputs": []
    },
    {
      "cell_type": "code",
      "source": [
        "obj3 = Student2('III', 50, 'A') "
      ],
      "metadata": {
        "id": "XfJd-LOpMKuy"
      },
      "execution_count": null,
      "outputs": []
    },
    {
      "cell_type": "code",
      "source": [
        "obj3.strength"
      ],
      "metadata": {
        "colab": {
          "base_uri": "https://localhost:8080/"
        },
        "id": "tNoiEKvmMeIL",
        "outputId": "4bcc7c12-49be-4670-f77c-89f0e99854b3"
      },
      "execution_count": null,
      "outputs": [
        {
          "output_type": "execute_result",
          "data": {
            "text/plain": [
              "50"
            ]
          },
          "metadata": {},
          "execution_count": 53
        }
      ]
    },
    {
      "cell_type": "code",
      "source": [
        "obj3.section = 'C'\n",
        "obj3.section"
      ],
      "metadata": {
        "colab": {
          "base_uri": "https://localhost:8080/",
          "height": 35
        },
        "id": "Gy9bJmtWM8LL",
        "outputId": "94134fa0-7127-4e37-a9f8-9aff33019b12"
      },
      "execution_count": null,
      "outputs": [
        {
          "output_type": "execute_result",
          "data": {
            "text/plain": [
              "'C'"
            ],
            "application/vnd.google.colaboratory.intrinsic+json": {
              "type": "string"
            }
          },
          "metadata": {},
          "execution_count": 54
        }
      ]
    },
    {
      "cell_type": "code",
      "source": [
        "obj3 = Student3('III', 50, 'A')\n",
        "obj3.SetName('Sagar') #Setting Instance Variable, This command internally calls Student2.SetName(obj3, 'Sagar')\n",
        "obj3.Branch()"
      ],
      "metadata": {
        "colab": {
          "base_uri": "https://localhost:8080/"
        },
        "id": "WX8eH1DwPMxM",
        "outputId": "32601385-ee34-4bd9-b105-77d0978820f0"
      },
      "execution_count": null,
      "outputs": [
        {
          "output_type": "stream",
          "name": "stdout",
          "text": [
            "This is Computer Engineering Student  Sagar\n"
          ]
        }
      ]
    },
    {
      "cell_type": "code",
      "source": [
        " # Deleting (Calling destructor)\n",
        "#Creating Class in Python with self as MyVar\n",
        "class Student2:\n",
        "  college = 'SIT'\n",
        "  def __init__(MyVar, sem, strength, section):\n",
        "    MyVar.sem = sem\n",
        "    MyVar.strength = strength\n",
        "    MyVar.section = section\n",
        "  def Branch(MyV):\n",
        "    print('This is Computer Engineering ', MyV.sem + ' Semester')    \n",
        "  def __del__(self):\n",
        "    print('Destructor called, Student2 deleted.')"
      ],
      "metadata": {
        "id": "kxnEh2TAWe4a"
      },
      "execution_count": null,
      "outputs": []
    },
    {
      "cell_type": "code",
      "source": [
        "obj4 = Student2('IV', 50, 'G') "
      ],
      "metadata": {
        "id": "EFgRPzpVd7Dv"
      },
      "execution_count": null,
      "outputs": []
    },
    {
      "cell_type": "code",
      "source": [
        "obj4.section"
      ],
      "metadata": {
        "colab": {
          "base_uri": "https://localhost:8080/",
          "height": 35
        },
        "id": "S41wGMHHgnEP",
        "outputId": "0caeb9df-a739-4295-b814-e294c3876711"
      },
      "execution_count": null,
      "outputs": [
        {
          "output_type": "execute_result",
          "data": {
            "text/plain": [
              "'G'"
            ],
            "application/vnd.google.colaboratory.intrinsic+json": {
              "type": "string"
            }
          },
          "metadata": {},
          "execution_count": 58
        }
      ]
    },
    {
      "cell_type": "code",
      "source": [
        "del obj4"
      ],
      "metadata": {
        "id": "3MRb3U78d_h2"
      },
      "execution_count": null,
      "outputs": []
    },
    {
      "cell_type": "code",
      "source": [
        "obj4.section"
      ],
      "metadata": {
        "colab": {
          "base_uri": "https://localhost:8080/",
          "height": 167
        },
        "id": "PfSHV68SeE72",
        "outputId": "feadea7e-ee41-4c1a-9144-913b00787703"
      },
      "execution_count": null,
      "outputs": [
        {
          "output_type": "error",
          "ename": "NameError",
          "evalue": "ignored",
          "traceback": [
            "\u001b[0;31m---------------------------------------------------------------------------\u001b[0m",
            "\u001b[0;31mNameError\u001b[0m                                 Traceback (most recent call last)",
            "\u001b[0;32m<ipython-input-60-d87674160a76>\u001b[0m in \u001b[0;36m<module>\u001b[0;34m\u001b[0m\n\u001b[0;32m----> 1\u001b[0;31m \u001b[0mobj4\u001b[0m\u001b[0;34m.\u001b[0m\u001b[0msection\u001b[0m\u001b[0;34m\u001b[0m\u001b[0;34m\u001b[0m\u001b[0m\n\u001b[0m",
            "\u001b[0;31mNameError\u001b[0m: name 'obj4' is not defined"
          ]
        }
      ]
    },
    {
      "cell_type": "code",
      "source": [
        "#Creating Class in Python with self as MyVar\n",
        "class Student3:\n",
        "  college = 'SIT'\n",
        "  def __init__(MyVar, sem, strength, section):\n",
        "    MyVar.sem = sem\n",
        "    MyVar.strength = strength\n",
        "    MyVar.section = section\n",
        "  \n",
        "  def SetName(self, name): #Adding new attribute or variable\n",
        "    self.name = name\n",
        "  def Branch(MyV):\n",
        "    print('This is Computer Engineering Student ', MyV.name )"
      ],
      "metadata": {
        "id": "UY2V4tBROxGg"
      },
      "execution_count": null,
      "outputs": []
    },
    {
      "cell_type": "markdown",
      "source": [
        ">Class BaseClass: \\\\\n",
        ">{Body} \\\\\n",
        ">Class DerivedClass(BaseClass): \\\\\n",
        ">{Body}"
      ],
      "metadata": {
        "id": "4r7eQujOWu5_"
      }
    },
    {
      "cell_type": "code",
      "source": [
        "class University:\n",
        "  univer_name = \"SIU\"\n",
        "  def __init__(self):\n",
        "    self.univer_city = \"Pune\"\n",
        "\n",
        "  def Display(self):\n",
        "    print('This is Symbiosis International (Deemed University)',self.univer_name)\n"
      ],
      "metadata": {
        "id": "3KQrR8liXN-d"
      },
      "execution_count": null,
      "outputs": []
    },
    {
      "cell_type": "code",
      "source": [
        "obj=University()\n",
        "obj.univer_name"
      ],
      "metadata": {
        "colab": {
          "base_uri": "https://localhost:8080/",
          "height": 35
        },
        "id": "j9GqLp8DQvND",
        "outputId": "41dea539-4092-45d9-b621-33153e5a5982"
      },
      "execution_count": null,
      "outputs": [
        {
          "output_type": "execute_result",
          "data": {
            "text/plain": [
              "'SIU'"
            ],
            "application/vnd.google.colaboratory.intrinsic+json": {
              "type": "string"
            }
          },
          "metadata": {},
          "execution_count": 22
        }
      ]
    },
    {
      "cell_type": "code",
      "source": [
        "class Student3(University):\n",
        "  college = 'SIT'\n",
        "  def __init__(self, sem, strength, section):\n",
        "    self.sem = sem\n",
        "    self.strength = strength\n",
        "    self.section = section\n",
        "  \n",
        "  def SetName(self, name): #Adding new attribute or variable\n",
        "    self.name = name\n",
        "  def Branch(self):\n",
        "    print('This is Computer Engineering Student ', self.name )"
      ],
      "metadata": {
        "id": "ZoQOObmmsVqN"
      },
      "execution_count": null,
      "outputs": []
    },
    {
      "cell_type": "code",
      "source": [
        "My_stud = Student3('III', 87, 'A')\n",
        "My_stud.college"
      ],
      "metadata": {
        "colab": {
          "base_uri": "https://localhost:8080/",
          "height": 35
        },
        "id": "h1nPQT6_sk0o",
        "outputId": "2b445c86-edd8-4432-b8a3-70d03b60e364"
      },
      "execution_count": null,
      "outputs": [
        {
          "output_type": "execute_result",
          "data": {
            "text/plain": [
              "'SIT'"
            ],
            "application/vnd.google.colaboratory.intrinsic+json": {
              "type": "string"
            }
          },
          "metadata": {},
          "execution_count": 24
        }
      ]
    },
    {
      "cell_type": "code",
      "source": [
        "My_stud.Display()"
      ],
      "metadata": {
        "colab": {
          "base_uri": "https://localhost:8080/"
        },
        "id": "wlH4GpUosz18",
        "outputId": "fdb88fec-ee78-4062-d784-fb1da4652fb2"
      },
      "execution_count": null,
      "outputs": [
        {
          "output_type": "stream",
          "name": "stdout",
          "text": [
            "This is Symbiosis International (Deemed University) SIU\n"
          ]
        }
      ]
    },
    {
      "cell_type": "code",
      "source": [
        "My_stud.Display()"
      ],
      "metadata": {
        "colab": {
          "base_uri": "https://localhost:8080/"
        },
        "id": "7A7E5L68tV8C",
        "outputId": "820aa5e4-5698-4f3d-ff1a-3da13fc90cbe"
      },
      "execution_count": null,
      "outputs": [
        {
          "output_type": "stream",
          "name": "stdout",
          "text": [
            "This is Symbiosis International (Deemed University) SIU\n"
          ]
        }
      ]
    },
    {
      "cell_type": "code",
      "source": [
        "My_stud.univer_city"
      ],
      "metadata": {
        "colab": {
          "base_uri": "https://localhost:8080/",
          "height": 165
        },
        "id": "HdikQ3bdsZq4",
        "outputId": "680cd3ae-71f0-4ac0-8351-9a2ded58c94c"
      },
      "execution_count": null,
      "outputs": [
        {
          "output_type": "error",
          "ename": "AttributeError",
          "evalue": "ignored",
          "traceback": [
            "\u001b[0;31m---------------------------------------------------------------------------\u001b[0m",
            "\u001b[0;31mAttributeError\u001b[0m                            Traceback (most recent call last)",
            "\u001b[0;32m<ipython-input-27-6acc6cf5c55c>\u001b[0m in \u001b[0;36m<module>\u001b[0;34m\u001b[0m\n\u001b[0;32m----> 1\u001b[0;31m \u001b[0mMy_stud\u001b[0m\u001b[0;34m.\u001b[0m\u001b[0muniver_city\u001b[0m\u001b[0;34m\u001b[0m\u001b[0;34m\u001b[0m\u001b[0m\n\u001b[0m",
            "\u001b[0;31mAttributeError\u001b[0m: 'Student3' object has no attribute 'univer_city'"
          ]
        }
      ]
    },
    {
      "cell_type": "code",
      "source": [
        "class Faculty(University):\n",
        "  college = 'SIT'\n",
        "  def SetBranch(self, branch):\n",
        "    self.branch = branch"
      ],
      "metadata": {
        "id": "W98sZ0l5sjjY"
      },
      "execution_count": null,
      "outputs": []
    },
    {
      "cell_type": "code",
      "source": [
        "Fac = Faculty()\n",
        "Fac.univer_city"
      ],
      "metadata": {
        "colab": {
          "base_uri": "https://localhost:8080/",
          "height": 35
        },
        "id": "s9cL0fUyuXfF",
        "outputId": "2dfc7eb6-101c-4235-adad-96421516f7b4"
      },
      "execution_count": null,
      "outputs": [
        {
          "output_type": "execute_result",
          "data": {
            "text/plain": [
              "'Pune'"
            ],
            "application/vnd.google.colaboratory.intrinsic+json": {
              "type": "string"
            }
          },
          "metadata": {},
          "execution_count": 29
        }
      ]
    },
    {
      "cell_type": "code",
      "source": [
        "Fac.Display()"
      ],
      "metadata": {
        "colab": {
          "base_uri": "https://localhost:8080/"
        },
        "id": "9PtlynUMTHlF",
        "outputId": "6ad566eb-133d-41c4-babe-ecfc105a378a"
      },
      "execution_count": null,
      "outputs": [
        {
          "output_type": "stream",
          "name": "stdout",
          "text": [
            "This is Symbiosis International (Deemed University) SIU\n"
          ]
        }
      ]
    },
    {
      "cell_type": "code",
      "source": [
        "Fac.SetBranch('Nagpur')\n",
        "Fac.branch"
      ],
      "metadata": {
        "colab": {
          "base_uri": "https://localhost:8080/",
          "height": 35
        },
        "id": "fZGK80I2TNV3",
        "outputId": "b9a46c89-60b0-41cd-f40d-3385742c880a"
      },
      "execution_count": null,
      "outputs": [
        {
          "output_type": "execute_result",
          "data": {
            "text/plain": [
              "'Nagpur'"
            ],
            "application/vnd.google.colaboratory.intrinsic+json": {
              "type": "string"
            }
          },
          "metadata": {},
          "execution_count": 31
        }
      ]
    },
    {
      "cell_type": "code",
      "source": [
        "class Student3(University):\n",
        "  college = 'SIT'\n",
        "  def __init__(self, sem, strength, section):\n",
        "    self.sem = sem\n",
        "    self.strength = strength\n",
        "    self.section = section\n",
        "    University.__init__(self)\n",
        "  \n",
        "  def SetName(self, name): #Adding new attribute or variable\n",
        "    self.name = name\n",
        "  def Branch(self):\n",
        "    print('This is Computer Engineering Student ', self.name )"
      ],
      "metadata": {
        "id": "1Esindx6vEK7"
      },
      "execution_count": null,
      "outputs": []
    },
    {
      "cell_type": "code",
      "source": [
        "My_stud1 = Student3('V',65,'B')\n",
        "My_stud1.univer_city"
      ],
      "metadata": {
        "colab": {
          "base_uri": "https://localhost:8080/",
          "height": 35
        },
        "id": "roMe_dXcvNy5",
        "outputId": "66eee608-b55d-4e88-dd7b-c1e85fa99745"
      },
      "execution_count": null,
      "outputs": [
        {
          "output_type": "execute_result",
          "data": {
            "text/plain": [
              "'Pune'"
            ],
            "application/vnd.google.colaboratory.intrinsic+json": {
              "type": "string"
            }
          },
          "metadata": {},
          "execution_count": 33
        }
      ]
    },
    {
      "cell_type": "code",
      "source": [
        "class Polygon:\n",
        "  def __init__(self, no_sides):\n",
        "    self.no_sides = no_sides\n",
        "\n",
        "  def Disc(self):\n",
        "    print(f\"I am {self.no_sides} side polygon\")\n",
        "\n",
        "  def In_Pri_Sides(self):\n",
        "    sides = [float(a) for a in input().split()]\n",
        "    for i in range(len(sides)):\n",
        "      print(f\"Side {i}: {sides[i]}\")"
      ],
      "metadata": {
        "id": "X_MXRWWWlPhJ"
      },
      "execution_count": null,
      "outputs": []
    },
    {
      "cell_type": "code",
      "source": [
        "square = Polygon(4)"
      ],
      "metadata": {
        "id": "azTAhTsznZI7"
      },
      "execution_count": null,
      "outputs": []
    },
    {
      "cell_type": "code",
      "source": [
        "square.Disc()"
      ],
      "metadata": {
        "colab": {
          "base_uri": "https://localhost:8080/"
        },
        "id": "eacAPgTgn07O",
        "outputId": "fe5bbc6b-6d20-49c0-ea12-825c5586794e"
      },
      "execution_count": null,
      "outputs": [
        {
          "output_type": "stream",
          "name": "stdout",
          "text": [
            "I am 4 side polygon\n"
          ]
        }
      ]
    },
    {
      "cell_type": "code",
      "source": [
        "square.In_Pri_Sides()"
      ],
      "metadata": {
        "colab": {
          "base_uri": "https://localhost:8080/"
        },
        "id": "rQnR6WPmoPZQ",
        "outputId": "6056a5fb-8f71-4169-8fb0-553a2e597664"
      },
      "execution_count": null,
      "outputs": [
        {
          "output_type": "stream",
          "name": "stdout",
          "text": [
            "12 14 15 13\n",
            "Side 0: 12.0\n",
            "Side 1: 14.0\n",
            "Side 2: 15.0\n",
            "Side 3: 13.0\n"
          ]
        }
      ]
    },
    {
      "cell_type": "code",
      "source": [
        "def isPalindrome(s):\n",
        "    s = s.lower()\n",
        "    l = len(s)\n",
        "    if l < 2:\n",
        "      return True\n",
        "    elif s[0] == s[l - 1]:\n",
        "      return isPalindrome(s[1: l - 1])\n",
        "    else:\n",
        "      return False\n",
        "# Main Code\n",
        "s = input('Enter a string: ')\n",
        "ans = isPalindrome(s)\n",
        " \n",
        "if ans:\n",
        "    print(f\"Yes, {s} is a Palindrome\")\n",
        " \n",
        "else:\n",
        "    print(f\"No, {s} is not a Palindrome \")\n"
      ],
      "metadata": {
        "colab": {
          "base_uri": "https://localhost:8080/"
        },
        "id": "SSPMytp63-SZ",
        "outputId": "23b10961-b831-4acb-c6c7-ff3b88acb819"
      },
      "execution_count": null,
      "outputs": [
        {
          "output_type": "stream",
          "name": "stdout",
          "text": [
            "Enter a string: Ragas\n",
            "No, Ragas is not a Palindrome \n"
          ]
        }
      ]
    },
    {
      "cell_type": "code",
      "source": [
        "class Vehicle:\n",
        "  def __init__(self, name, max_spd, avg):\n",
        "     self.name = name\n",
        "     self.max_speed = max_spd\n",
        "     self.average = avg\n"
      ],
      "metadata": {
        "id": "LWlWMRyc5TPd"
      },
      "execution_count": null,
      "outputs": []
    },
    {
      "cell_type": "code",
      "source": [
        "class Bus:\n",
        "  pass"
      ],
      "metadata": {
        "id": "y8-SvE545KF2"
      },
      "execution_count": null,
      "outputs": []
    },
    {
      "cell_type": "code",
      "source": [
        "class Bus(Vehicle):\n",
        "  def Display(self):\n",
        "    print(f'''This is {self.name} vehicle,\n",
        "    I can drive at a speed of \n",
        "    {self.max_speed} km/hr \n",
        "    with an average of {self.average}.''')"
      ],
      "metadata": {
        "id": "-zMYY9Ei5Wlt"
      },
      "execution_count": null,
      "outputs": []
    },
    {
      "cell_type": "code",
      "source": [
        "b = Bus('Volvo Bus', 120, 12.12)\n",
        "b.Display()"
      ],
      "metadata": {
        "colab": {
          "base_uri": "https://localhost:8080/"
        },
        "id": "jQDBIsXC5gdG",
        "outputId": "c1b7a57d-0b26-460a-ce12-06c0c20ba76b"
      },
      "execution_count": null,
      "outputs": [
        {
          "output_type": "stream",
          "name": "stdout",
          "text": [
            "This is Volvo Bus vehicle,\n",
            "    I can drive at an speed of 120 km/hr \n",
            "    with an average of 12.12.\n"
          ]
        }
      ]
    },
    {
      "cell_type": "code",
      "source": [
        "def sum_digit( n ):\n",
        "    if n == 0:\n",
        "        return 0\n",
        "    return (n % 10 + sum_digit(int(n / 10)))\n",
        " \n",
        "# Main Code\n",
        "num = int(input('Enter a number: '))\n",
        "result = sum_digit(num)\n",
        "print(\"Sum of digits in\",num,\"is\", result)"
      ],
      "metadata": {
        "colab": {
          "base_uri": "https://localhost:8080/"
        },
        "id": "b77T3HHZJIl-",
        "outputId": "363e47ac-47c9-4430-b307-0151db7aa057"
      },
      "execution_count": null,
      "outputs": [
        {
          "output_type": "stream",
          "name": "stdout",
          "text": [
            "Enter a number: 546546\n",
            "Sum of digits in 546546 is 30\n"
          ]
        }
      ]
    },
    {
      "cell_type": "markdown",
      "source": [
        "Write a python program to create a module “BasicListOp” with functions for sorting a list, reversing a list and merging two lists. Import created module and show usage of any one function from ‘BasicListOp” module"
      ],
      "metadata": {
        "id": "hFxQChxYKJNs"
      }
    },
    {
      "cell_type": "code",
      "source": [
        "%%writefile BasicListOp.py\n",
        "def Sort_List(ls):\n",
        "  return sorted(ls)\n",
        "def Rev_List(ls):\n",
        "  ls.reverse()\n",
        "  return ls\n",
        "def Mer_List(ls1, ls2):\n",
        "  return ls1 + ls2"
      ],
      "metadata": {
        "colab": {
          "base_uri": "https://localhost:8080/"
        },
        "id": "F9hKNgG6KEyF",
        "outputId": "64953eea-f597-4b67-e8b1-e7363bb2a4e2"
      },
      "execution_count": null,
      "outputs": [
        {
          "output_type": "stream",
          "name": "stdout",
          "text": [
            "Writing BasicListOp.py\n"
          ]
        }
      ]
    },
    {
      "cell_type": "code",
      "source": [
        "%cat BasicListOp.py"
      ],
      "metadata": {
        "colab": {
          "base_uri": "https://localhost:8080/"
        },
        "id": "8yIdLZDjNqTb",
        "outputId": "f25a5bfd-8342-4a21-b8c7-7bd92679b335"
      },
      "execution_count": null,
      "outputs": [
        {
          "output_type": "stream",
          "name": "stdout",
          "text": [
            "def Sort_List(ls):\n",
            "  return sorted(ls)\n",
            "def Rev_List(ls):\n",
            "  ls.reverse()\n",
            "  return ls\n",
            "def Mer_List(ls1, ls2):\n",
            "  return ls1 + ls2"
          ]
        }
      ]
    },
    {
      "cell_type": "code",
      "source": [
        "from BasicListOp import Mer_List\n",
        "x=Mer_List([3,2,6,1],[3,2])\n",
        "print(x)"
      ],
      "metadata": {
        "colab": {
          "base_uri": "https://localhost:8080/"
        },
        "id": "We77PNJaK9hk",
        "outputId": "380ef8f7-ac90-4d2e-fdf2-12ae139cfdbd"
      },
      "execution_count": null,
      "outputs": [
        {
          "output_type": "stream",
          "name": "stdout",
          "text": [
            "[3, 2, 6, 1, 3, 2]\n"
          ]
        }
      ]
    },
    {
      "cell_type": "code",
      "source": [
        "tup = (1, 'SIT', 3.14)\n",
        "tup[2]=7"
      ],
      "metadata": {
        "colab": {
          "base_uri": "https://localhost:8080/",
          "height": 183
        },
        "id": "qeTsLJ_yLR4M",
        "outputId": "ac34c78e-6a44-4c49-fd96-91f83002a17f"
      },
      "execution_count": null,
      "outputs": [
        {
          "output_type": "error",
          "ename": "TypeError",
          "evalue": "ignored",
          "traceback": [
            "\u001b[0;31m---------------------------------------------------------------------------\u001b[0m",
            "\u001b[0;31mTypeError\u001b[0m                                 Traceback (most recent call last)",
            "\u001b[0;32m<ipython-input-3-15c0b83af027>\u001b[0m in \u001b[0;36m<module>\u001b[0;34m()\u001b[0m\n\u001b[1;32m      1\u001b[0m \u001b[0mtup\u001b[0m \u001b[0;34m=\u001b[0m \u001b[0;34m(\u001b[0m\u001b[0;36m1\u001b[0m\u001b[0;34m,\u001b[0m \u001b[0;34m'SIT'\u001b[0m\u001b[0;34m,\u001b[0m \u001b[0;36m3.14\u001b[0m\u001b[0;34m)\u001b[0m\u001b[0;34m\u001b[0m\u001b[0;34m\u001b[0m\u001b[0m\n\u001b[0;32m----> 2\u001b[0;31m \u001b[0mtup\u001b[0m\u001b[0;34m[\u001b[0m\u001b[0;36m2\u001b[0m\u001b[0;34m]\u001b[0m\u001b[0;34m=\u001b[0m\u001b[0;36m7\u001b[0m\u001b[0;34m\u001b[0m\u001b[0;34m\u001b[0m\u001b[0m\n\u001b[0m",
            "\u001b[0;31mTypeError\u001b[0m: 'tuple' object does not support item assignment"
          ]
        }
      ]
    },
    {
      "cell_type": "code",
      "source": [
        "tup1 = (1, 'SIT', [3.14])\n",
        "print('Before: ',id(tup[2]))\n",
        "tup1[2][0]=4\n",
        "print('After: ',id(tup[2]))"
      ],
      "metadata": {
        "colab": {
          "base_uri": "https://localhost:8080/"
        },
        "id": "mXo36HcBRKS8",
        "outputId": "c5ceba22-ebc6-48fc-c8d1-12f3c7947f9b"
      },
      "execution_count": null,
      "outputs": [
        {
          "output_type": "stream",
          "name": "stdout",
          "text": [
            "Before:  140569392543088\n",
            "After:  140569392543088\n"
          ]
        }
      ]
    },
    {
      "cell_type": "code",
      "source": [
        "pow(2,0.5)"
      ],
      "metadata": {
        "colab": {
          "base_uri": "https://localhost:8080/"
        },
        "id": "hApc3fUiXjm3",
        "outputId": "fa0e036f-51b8-43ad-ee38-beec5278d3bd"
      },
      "execution_count": null,
      "outputs": [
        {
          "output_type": "execute_result",
          "data": {
            "text/plain": [
              "1.4142135623730951"
            ]
          },
          "metadata": {},
          "execution_count": 2
        }
      ]
    }
  ]
}
